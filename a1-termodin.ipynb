{
 "cells": [
  {
   "cell_type": "code",
   "execution_count": 1,
   "metadata": {},
   "outputs": [],
   "source": [
    "import numpy as np\n",
    "import matplotlib.pyplot as plt \n",
    "import matplotlib as mpl"
   ]
  },
  {
   "cell_type": "code",
   "execution_count": 2,
   "metadata": {},
   "outputs": [
    {
     "name": "stdout",
     "output_type": "stream",
     "text": [
      "a média é : 297.26 mm\n"
     ]
    }
   ],
   "source": [
    "a = [297.3,297.0,297.4,297.3,297.3]\n",
    "media = np.sum(a) / 5\n",
    "print(\"a média é : {:.2f} mm\".format(media))"
   ]
  },
  {
   "cell_type": "code",
   "execution_count": 3,
   "metadata": {},
   "outputs": [
    {
     "name": "stdout",
     "output_type": "stream",
     "text": [
      "Erro Estatístico é : 0.07 mm\n"
     ]
    }
   ],
   "source": [
    "dpa = np.std(a, ddof=1)\n",
    "sigma = dpa / np.sqrt(5)\n",
    "print(\"Erro Estatístico é : {:.2f} mm\".format(sigma))"
   ]
  },
  {
   "cell_type": "code",
   "execution_count": 4,
   "metadata": {},
   "outputs": [
    {
     "name": "stdout",
     "output_type": "stream",
     "text": [
      "Erro combinado 0.08 mm\n"
     ]
    }
   ],
   "source": [
    "sigma_b = 0.05 #mm\n",
    "sig_t = np.sqrt((sigma)**2 + (sigma_b)**2)\n",
    "print(\"Erro combinado {:.2f} mm\".format(sig_t))"
   ]
  },
  {
   "cell_type": "code",
   "execution_count": 5,
   "metadata": {},
   "outputs": [
    {
     "name": "stdout",
     "output_type": "stream",
     "text": [
      "a média é : 209.94 mm\n"
     ]
    }
   ],
   "source": [
    "b = [210.0,209.9,210.0,209.8,210.0]\n",
    "media2 = np.sum(b) / 5\n",
    "print(\"a média é : {:.2f} mm\".format(media2))"
   ]
  },
  {
   "cell_type": "code",
   "execution_count": 6,
   "metadata": {},
   "outputs": [
    {
     "name": "stdout",
     "output_type": "stream",
     "text": [
      "Erro Estatístico é : 0.04 mm.\n"
     ]
    }
   ],
   "source": [
    "dpb = np.std(b, ddof=1)\n",
    "sigma2 = dpb / np.sqrt(5)\n",
    "print(\"Erro Estatístico é : {:.2f} mm.\".format(sigma2))"
   ]
  },
  {
   "cell_type": "code",
   "execution_count": 8,
   "metadata": {},
   "outputs": [
    {
     "name": "stdout",
     "output_type": "stream",
     "text": [
      "Erro combinado: 0.06 mm.\n"
     ]
    }
   ],
   "source": [
    "sigma_b2 = 0.05 #mm\n",
    "sig_t2 = np.sqrt((sigma2)**2 + (sigma_b2)**2)\n",
    "print(\"Erro combinado: {:.2f} mm.\".format(sig_t2))"
   ]
  },
  {
   "cell_type": "code",
   "execution_count": 12,
   "metadata": {},
   "outputs": [
    {
     "name": "stdout",
     "output_type": "stream",
     "text": [
      "A área é : 62406.76 mm².\n"
     ]
    }
   ],
   "source": [
    "# Área \n",
    "area = media*media2\n",
    "print(\"A área é : {:.2f} mm².\".format(area))"
   ]
  },
  {
   "cell_type": "code",
   "execution_count": 15,
   "metadata": {},
   "outputs": [
    {
     "name": "stdout",
     "output_type": "stream",
     "text": [
      "O erro relativo padrão é : 16.53 mm²\n"
     ]
    }
   ],
   "source": [
    "#Incerteza\n",
    "sig_i = area*np.sqrt((sigma/media)**2 + (sigma2/media)**2)\n",
    "print(\"O erro relativo padrão é : {:.2f} mm²\".format(sig_i))"
   ]
  },
  {
   "cell_type": "code",
   "execution_count": 30,
   "metadata": {},
   "outputs": [],
   "source": [
    "#03\n",
    "m1 = [9.75,9.47,10.22,10.02,9.87,9.99,10.08]\n",
    "m2 = [8.37,8.61,8.1,8.44,8.68,8.7,8.84]\n",
    "m3 = [8.01,12.06,9.66,11.14,8.97,9.38,10.45]\n",
    "m4 = [2.55,3.35,3.04,3.29,3.87,2.96,3.48]\n",
    "ref = 9.8 "
   ]
  },
  {
   "cell_type": "code",
   "execution_count": 31,
   "metadata": {},
   "outputs": [],
   "source": [
    "m_1 = np.sum(m1)/ 7\n",
    "m_2 = np.sum(m2)/ 7\n",
    "m_3 = np.sum(m3)/ 7\n",
    "m_4 = np.sum(m4)/ 7\n"
   ]
  },
  {
   "cell_type": "code",
   "execution_count": 37,
   "metadata": {},
   "outputs": [],
   "source": [
    "#Erros Relativos\n",
    "e_m1 = (np.sqrt((ref-m_1)**2)/m_1)*100\n",
    "e_m2 = (np.sqrt((ref-m_2)**2)/m_2)*100\n",
    "e_m3 = (np.sqrt((ref-m_3)**2)/m_3)*100\n",
    "e_m4 = (np.sqrt((ref-m_4)**2)/m_4)*100"
   ]
  },
  {
   "cell_type": "code",
   "execution_count": 38,
   "metadata": {},
   "outputs": [
    {
     "name": "stdout",
     "output_type": "stream",
     "text": [
      "Erro Relativo Obs.1 : 1.15 m/s².\n"
     ]
    }
   ],
   "source": [
    "print(\"Erro Relativo Obs.1 : {:.2f} m/s².\".format(e_m1))"
   ]
  },
  {
   "cell_type": "code",
   "execution_count": 39,
   "metadata": {},
   "outputs": [
    {
     "name": "stdout",
     "output_type": "stream",
     "text": [
      "Erro Relativo Obs.2 : 14.83 m/s².\n"
     ]
    }
   ],
   "source": [
    "print(\"Erro Relativo Obs.2 : {:.2f} m/s².\".format(e_m2))"
   ]
  },
  {
   "cell_type": "code",
   "execution_count": 40,
   "metadata": {},
   "outputs": [
    {
     "name": "stdout",
     "output_type": "stream",
     "text": [
      "Erro Relativo Obs.3 : 1.54 m/s².\n"
     ]
    }
   ],
   "source": [
    "print(\"Erro Relativo Obs.3 : {:.2f} m/s².\".format(e_m3))"
   ]
  },
  {
   "cell_type": "code",
   "execution_count": 41,
   "metadata": {},
   "outputs": [
    {
     "name": "stdout",
     "output_type": "stream",
     "text": [
      "Erro Relativo Obs.4 : 204.35 m/s².\n"
     ]
    }
   ],
   "source": [
    "print(\"Erro Relativo Obs.4 : {:.2f} m/s².\".format(e_m4))"
   ]
  },
  {
   "cell_type": "code",
   "execution_count": 43,
   "metadata": {},
   "outputs": [],
   "source": [
    "X = np.array([100,134,175,195,279,305,330,364,410,504])\n",
    "Y = np.array([1960,2638,3468,3852,5518,6034,6520,7188,8081,9955])\n"
   ]
  },
  {
   "cell_type": "code",
   "execution_count": 44,
   "metadata": {},
   "outputs": [
    {
     "name": "stdout",
     "output_type": "stream",
     "text": [
      "[19.75676306 -2.59095149]\n"
     ]
    }
   ],
   "source": [
    "mod_linear = np.polyfit(X, Y , 1) \n",
    "print(mod_linear)"
   ]
  },
  {
   "cell_type": "code",
   "execution_count": 51,
   "metadata": {},
   "outputs": [
    {
     "name": "stdout",
     "output_type": "stream",
     "text": [
      "coeficiente angular da reta: 19.76\n",
      "coeficiente linear da reta: -2.59\n"
     ]
    }
   ],
   "source": [
    "#y = ax+b\n",
    "a = float(mod_linear[0])\n",
    "b = float(mod_linear[1])\n",
    "print(\"coeficiente angular da reta: {:.2f}\".format(a))\n",
    "print(\"coeficiente linear da reta: {:.2f}\".format(b))\n"
   ]
  },
  {
   "cell_type": "code",
   "execution_count": 47,
   "metadata": {},
   "outputs": [
    {
     "name": "stdout",
     "output_type": "stream",
     "text": [
      "[1973.08535448 2644.81529851 3454.84258396 3849.97784515 5509.54594216\n",
      " 6023.22178172 6517.14085821 7188.87080224 8097.68190299 9954.8176306 ]\n"
     ]
    }
   ],
   "source": [
    "y_mod = a*X + b\n",
    "print(y_mod)"
   ]
  },
  {
   "cell_type": "code",
   "execution_count": 48,
   "metadata": {},
   "outputs": [
    {
     "data": {
      "image/png": "[encoded data removed]",
      "text/plain": [
       "<Figure size 576x576 with 1 Axes>"
      ]
     },
     "metadata": {
      "needs_background": "light"
     },
     "output_type": "display_data"
    }
   ],
   "source": [
    "plt.figure( figsize=(8,8))\n",
    "plt.plot(X,Y, \"o\",)\n",
    "plt.plot(X,y_mod, \"-r\")\n",
    "plt.xlabel(\"Temperatura (K)\")\n",
    "plt.ylabel(\"Pressão (kPa)\")\n",
    "plt.show()"
   ]
  },
  {
   "cell_type": "code",
   "execution_count": 50,
   "metadata": {},
   "outputs": [
    {
     "name": "stdout",
     "output_type": "stream",
     "text": [
      "coeficiente de determinação do ajuste é 1.00\n"
     ]
    }
   ],
   "source": [
    "#R²\n",
    "yresid = Y - y_mod\n",
    "SQresid = sum(yresid**2)\n",
    "y_tot = Y- np.mean(Y)\n",
    "SQtotal = sum(y_tot**2)\n",
    "R2 = 1 - SQresid/SQtotal\n",
    "print ('coeficiente de determinação do ajuste é {:.2f}'.format(R2))"
   ]
  },
  {
   "cell_type": "code",
   "execution_count": 59,
   "metadata": {},
   "outputs": [
    {
     "name": "stdout",
     "output_type": "stream",
     "text": [
      "A média de Pressão é: 5521.40 Pa.\n",
      "A média da Temperatura é: 279.60 K.\n"
     ]
    }
   ],
   "source": [
    "media_p = np.sum(Y)/10\n",
    "media_T = np.sum(X)/10\n",
    "print(\"A média de Pressão é: {:.2f} Pa.\".format(media_p))\n",
    "print(\"A média da Temperatura é: {:.2f} K.\".format(media_T))"
   ]
  },
  {
   "cell_type": "code",
   "execution_count": 61,
   "metadata": {},
   "outputs": [
    {
     "name": "stdout",
     "output_type": "stream",
     "text": [
      "O valor do Volume Experimental é: 0.21 m^3.\n"
     ]
    }
   ],
   "source": [
    "V = (500*(8.31)*media_T)/media_p*0.001\n",
    "print(\"O valor do Volume Experimental é: {:.2f} m^3.\".format(V))"
   ]
  }
 ],
 "metadata": {
  "interpreter": {
   "hash": "f7842ba6495919166000e49f7d621922db46ba650a68b7399e2f66393b439c28"
  },
  "kernelspec": {
   "display_name": "Python 3.10.2 64-bit",
   "language": "python",
   "name": "python3"
  },
  "language_info": {
   "codemirror_mode": {
    "name": "ipython",
    "version": 3
   },
   "file_extension": ".py",
   "mimetype": "text/x-python",
   "name": "python",
   "nbconvert_exporter": "python",
   "pygments_lexer": "ipython3",
   "version": "3.10.2"
  },
  "orig_nbformat": 4
 },
 "nbformat": 4,
 "nbformat_minor": 2
}
